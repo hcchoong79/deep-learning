{
 "cells": [
  {
   "cell_type": "markdown",
   "metadata": {
    "collapsed": true
   },
   "source": [
    "# Language Translation\n",
    "In this project, you’re going to take a peek into the realm of neural network machine translation.  You’ll be training a sequence to sequence model on a dataset of English and French sentences that can translate new sentences from English to French.\n",
    "## Get the Data\n",
    "Since translating the whole language of English to French will take lots of time to train, we have provided you with a small portion of the English corpus."
   ]
  },
  {
   "cell_type": "code",
   "execution_count": 1,
   "metadata": {
    "ExecuteTime": {
     "end_time": "2018-01-23T02:19:14.176514Z",
     "start_time": "2018-01-23T02:19:13.385564Z"
    }
   },
   "outputs": [],
   "source": [
    "\"\"\"\n",
    "DON'T MODIFY ANYTHING IN THIS CELL\n",
    "\"\"\"\n",
    "import helper\n",
    "import problem_unittests as tests\n",
    "\n",
    "source_path = 'data/small_vocab_en'\n",
    "target_path = 'data/small_vocab_fr'\n",
    "source_text = helper.load_data(source_path)\n",
    "target_text = helper.load_data(target_path)"
   ]
  },
  {
   "cell_type": "markdown",
   "metadata": {},
   "source": [
    "## Explore the Data\n",
    "Play around with view_sentence_range to view different parts of the data."
   ]
  },
  {
   "cell_type": "code",
   "execution_count": 2,
   "metadata": {
    "ExecuteTime": {
     "end_time": "2018-01-23T02:19:16.176862Z",
     "start_time": "2018-01-23T02:19:15.818678Z"
    }
   },
   "outputs": [
    {
     "name": "stdout",
     "output_type": "stream",
     "text": [
      "Dataset Stats\n",
      "Roughly the number of unique words: 227\n",
      "Number of sentences: 137861\n",
      "Average number of words in a sentence: 13.225277634719028\n",
      "\n",
      "English sentences 0 to 10:\n",
      "new jersey is sometimes quiet during autumn , and it is snowy in april .\n",
      "the united states is usually chilly during july , and it is usually freezing in november .\n",
      "california is usually quiet during march , and it is usually hot in june .\n",
      "the united states is sometimes mild during june , and it is cold in september .\n",
      "your least liked fruit is the grape , but my least liked is the apple .\n",
      "his favorite fruit is the orange , but my favorite is the grape .\n",
      "paris is relaxing during december , but it is usually chilly in july .\n",
      "new jersey is busy during spring , and it is never hot in march .\n",
      "our least liked fruit is the lemon , but my least liked is the grape .\n",
      "the united states is sometimes busy during january , and it is sometimes warm in november .\n",
      "\n",
      "French sentences 0 to 10:\n",
      "new jersey est parfois calme pendant l' automne , et il est neigeux en avril .\n",
      "les états-unis est généralement froid en juillet , et il gèle habituellement en novembre .\n",
      "california est généralement calme en mars , et il est généralement chaud en juin .\n",
      "les états-unis est parfois légère en juin , et il fait froid en septembre .\n",
      "votre moins aimé fruit est le raisin , mais mon moins aimé est la pomme .\n",
      "son fruit préféré est l'orange , mais mon préféré est le raisin .\n",
      "paris est relaxant en décembre , mais il est généralement froid en juillet .\n",
      "new jersey est occupé au printemps , et il est jamais chaude en mars .\n",
      "notre fruit est moins aimé le citron , mais mon moins aimé est le raisin .\n",
      "les états-unis est parfois occupé en janvier , et il est parfois chaud en novembre .\n"
     ]
    }
   ],
   "source": [
    "view_sentence_range = (0, 10)\n",
    "\n",
    "\"\"\"\n",
    "DON'T MODIFY ANYTHING IN THIS CELL\n",
    "\"\"\"\n",
    "import numpy as np\n",
    "\n",
    "print('Dataset Stats')\n",
    "print('Roughly the number of unique words: {}'.format(len({word: None for word in source_text.split()})))\n",
    "\n",
    "sentences = source_text.split('\\n')\n",
    "word_counts = [len(sentence.split()) for sentence in sentences]\n",
    "print('Number of sentences: {}'.format(len(sentences)))\n",
    "print('Average number of words in a sentence: {}'.format(np.average(word_counts)))\n",
    "\n",
    "print()\n",
    "print('English sentences {} to {}:'.format(*view_sentence_range))\n",
    "print('\\n'.join(source_text.split('\\n')[view_sentence_range[0]:view_sentence_range[1]]))\n",
    "print()\n",
    "print('French sentences {} to {}:'.format(*view_sentence_range))\n",
    "print('\\n'.join(target_text.split('\\n')[view_sentence_range[0]:view_sentence_range[1]]))"
   ]
  },
  {
   "cell_type": "markdown",
   "metadata": {},
   "source": [
    "## Implement Preprocessing Function\n",
    "### Text to Word Ids\n",
    "As you did with other RNNs, you must turn the text into a number so the computer can understand it. In the function `text_to_ids()`, you'll turn `source_text` and `target_text` from words to ids.  However, you need to add the `<EOS>` word id at the end of `target_text`.  This will help the neural network predict when the sentence should end.\n",
    "\n",
    "You can get the `<EOS>` word id by doing:\n",
    "```python\n",
    "target_vocab_to_int['<EOS>']\n",
    "```\n",
    "You can get other word ids using `source_vocab_to_int` and `target_vocab_to_int`."
   ]
  },
  {
   "cell_type": "code",
   "execution_count": 3,
   "metadata": {
    "ExecuteTime": {
     "end_time": "2018-01-23T02:19:17.629248Z",
     "start_time": "2018-01-23T02:19:17.619872Z"
    }
   },
   "outputs": [
    {
     "name": "stdout",
     "output_type": "stream",
     "text": [
      "Tests Passed\n"
     ]
    }
   ],
   "source": [
    "def text_to_ids(source_text, target_text, source_vocab_to_int, target_vocab_to_int):\n",
    "    \"\"\"\n",
    "    Convert source and target text to proper word ids\n",
    "    :param source_text: String that contains all the source text.\n",
    "    :param target_text: String that contains all the target text.\n",
    "    :param source_vocab_to_int: Dictionary to go from the source words to an id\n",
    "    :param target_vocab_to_int: Dictionary to go from the target words to an id\n",
    "    :return: A tuple of lists (source_id_text, target_id_text)\n",
    "    \"\"\"\n",
    "    # split by CRLF as indicator for end sentence\n",
    "    # source\n",
    "    source_id_text = [\n",
    "        [source_vocab_to_int[word] for word in line.split()]\n",
    "        for line in source_text.split('\\n')]\n",
    "    # target\n",
    "    target_id_text = [\n",
    "        [target_vocab_to_int[word] for word in line.split()] + [target_vocab_to_int['<EOS>']]\n",
    "        for line in target_text.split('\\n')]\n",
    "    return source_id_text, target_id_text\n",
    "\n",
    "\"\"\"\n",
    "DON'T MODIFY ANYTHING IN THIS CELL THAT IS BELOW THIS LINE\n",
    "\"\"\"\n",
    "tests.test_text_to_ids(text_to_ids)"
   ]
  },
  {
   "cell_type": "markdown",
   "metadata": {},
   "source": [
    "### Preprocess all the data and save it\n",
    "Running the code cell below will preprocess all the data and save it to file."
   ]
  },
  {
   "cell_type": "code",
   "execution_count": 4,
   "metadata": {
    "ExecuteTime": {
     "end_time": "2018-01-23T02:19:21.579680Z",
     "start_time": "2018-01-23T02:19:20.181501Z"
    }
   },
   "outputs": [],
   "source": [
    "\"\"\"\n",
    "DON'T MODIFY ANYTHING IN THIS CELL\n",
    "\"\"\"\n",
    "helper.preprocess_and_save_data(source_path, target_path, text_to_ids)"
   ]
  },
  {
   "cell_type": "markdown",
   "metadata": {},
   "source": [
    "# Check Point\n",
    "This is your first checkpoint. If you ever decide to come back to this notebook or have to restart the notebook, you can start from here. The preprocessed data has been saved to disk."
   ]
  },
  {
   "cell_type": "code",
   "execution_count": 5,
   "metadata": {
    "ExecuteTime": {
     "end_time": "2018-01-23T02:19:23.654148Z",
     "start_time": "2018-01-23T02:19:23.381236Z"
    }
   },
   "outputs": [],
   "source": [
    "\"\"\"\n",
    "DON'T MODIFY ANYTHING IN THIS CELL\n",
    "\"\"\"\n",
    "import numpy as np\n",
    "import helper\n",
    "import problem_unittests as tests\n",
    "\n",
    "(source_int_text, target_int_text), (source_vocab_to_int, target_vocab_to_int), _ = helper.load_preprocess()"
   ]
  },
  {
   "cell_type": "markdown",
   "metadata": {},
   "source": [
    "### Check the Version of TensorFlow and Access to GPU\n",
    "This will check to make sure you have the correct version of TensorFlow and access to a GPU"
   ]
  },
  {
   "cell_type": "code",
   "execution_count": 6,
   "metadata": {
    "ExecuteTime": {
     "end_time": "2018-01-23T02:19:26.190980Z",
     "start_time": "2018-01-23T02:19:25.428800Z"
    }
   },
   "outputs": [
    {
     "name": "stdout",
     "output_type": "stream",
     "text": [
      "TensorFlow Version: 1.1.0\n",
      "Default GPU Device: /gpu:0\n"
     ]
    }
   ],
   "source": [
    "\"\"\"\n",
    "DON'T MODIFY ANYTHING IN THIS CELL\n",
    "\"\"\"\n",
    "from distutils.version import LooseVersion\n",
    "import warnings\n",
    "import tensorflow as tf\n",
    "from tensorflow.python.layers.core import Dense\n",
    "\n",
    "# Check TensorFlow Version\n",
    "assert LooseVersion(tf.__version__) >= LooseVersion('1.1'), 'Please use TensorFlow version 1.1 or newer'\n",
    "print('TensorFlow Version: {}'.format(tf.__version__))\n",
    "\n",
    "# Check for a GPU\n",
    "if not tf.test.gpu_device_name():\n",
    "    warnings.warn('No GPU found. Please use a GPU to train your neural network.')\n",
    "else:\n",
    "    print('Default GPU Device: {}'.format(tf.test.gpu_device_name()))"
   ]
  },
  {
   "cell_type": "markdown",
   "metadata": {},
   "source": [
    "## Build the Neural Network\n",
    "You'll build the components necessary to build a Sequence-to-Sequence model by implementing the following functions below:\n",
    "- `model_inputs`\n",
    "- `process_decoder_input`\n",
    "- `encoding_layer`\n",
    "- `decoding_layer_train`\n",
    "- `decoding_layer_infer`\n",
    "- `decoding_layer`\n",
    "- `seq2seq_model`\n",
    "\n",
    "### Input\n",
    "Implement the `model_inputs()` function to create TF Placeholders for the Neural Network. It should create the following placeholders:\n",
    "\n",
    "- Input text placeholder named \"input\" using the TF Placeholder name parameter with rank 2.\n",
    "- Targets placeholder with rank 2.\n",
    "- Learning rate placeholder with rank 0.\n",
    "- Keep probability placeholder named \"keep_prob\" using the TF Placeholder name parameter with rank 0.\n",
    "- Target sequence length placeholder named \"target_sequence_length\" with rank 1\n",
    "- Max target sequence length tensor named \"max_target_len\" getting its value from applying tf.reduce_max on the target_sequence_length placeholder. Rank 0.\n",
    "- Source sequence length placeholder named \"source_sequence_length\" with rank 1\n",
    "\n",
    "Return the placeholders in the following the tuple (input, targets, learning rate, keep probability, target sequence length, max target sequence length, source sequence length)"
   ]
  },
  {
   "cell_type": "code",
   "execution_count": 7,
   "metadata": {
    "ExecuteTime": {
     "end_time": "2018-01-23T02:19:27.863897Z",
     "start_time": "2018-01-23T02:19:27.788435Z"
    }
   },
   "outputs": [
    {
     "name": "stdout",
     "output_type": "stream",
     "text": [
      "Tests Passed\n"
     ]
    }
   ],
   "source": [
    "def model_inputs():\n",
    "    \"\"\"\n",
    "    Create TF Placeholders for input, targets, learning rate, and lengths of source and target sequences.\n",
    "    :return: Tuple (input, targets, learning rate, keep probability, target sequence length,\n",
    "    max target sequence length, source sequence length)\n",
    "    \"\"\"\n",
    "    # tf place holders\n",
    "    input = tf.placeholder(tf.int32, shape=(None, None), name='input')\n",
    "    targets = tf.placeholder(tf.int32, shape=(None, None), name='target')\n",
    "    lr = tf.placeholder(tf.float32, shape=None, name='learning_rate')\n",
    "    keep_prob = tf.placeholder(tf.float32, shape=None, name='keep_prob')\n",
    "    target_seq_len = tf.placeholder(tf.int32, shape=(None,), name='target_sequence_length')\n",
    "    max_target_seq_len = tf.reduce_max(target_seq_len, name='max_target_len')\n",
    "    source_seq_len = tf.placeholder(tf.int32, shape=(None,), name='source_sequence_length')\n",
    "    \n",
    "    return input, targets, lr, keep_prob, target_seq_len, max_target_seq_len, source_seq_len\n",
    "\n",
    "\n",
    "\"\"\"\n",
    "DON'T MODIFY ANYTHING IN THIS CELL THAT IS BELOW THIS LINE\n",
    "\"\"\"\n",
    "tests.test_model_inputs(model_inputs)"
   ]
  },
  {
   "cell_type": "markdown",
   "metadata": {},
   "source": [
    "### Process Decoder Input\n",
    "Implement `process_decoder_input` by removing the last word id from each batch in `target_data` and concat the GO ID to the begining of each batch."
   ]
  },
  {
   "cell_type": "code",
   "execution_count": 8,
   "metadata": {
    "ExecuteTime": {
     "end_time": "2018-01-23T02:19:29.351070Z",
     "start_time": "2018-01-23T02:19:29.335821Z"
    }
   },
   "outputs": [
    {
     "name": "stdout",
     "output_type": "stream",
     "text": [
      "Tests Passed\n"
     ]
    }
   ],
   "source": [
    "def process_decoder_input(target_data, target_vocab_to_int, batch_size):\n",
    "    \"\"\"\n",
    "    Preprocess target data for encoding\n",
    "    :param target_data: Target Placehoder\n",
    "    :param target_vocab_to_int: Dictionary to go from the target words to an id\n",
    "    :param batch_size: Batch Size\n",
    "    :return: Preprocessed target data\n",
    "    \"\"\"\n",
    "    return tf.concat([tf.fill([batch_size, 1], target_vocab_to_int['<GO>']), \n",
    "                      target_data[:, :-1]],\n",
    "                     1)\n",
    "\n",
    "\"\"\"\n",
    "DON'T MODIFY ANYTHING IN THIS CELL THAT IS BELOW THIS LINE\n",
    "\"\"\"\n",
    "tests.test_process_encoding_input(process_decoder_input)"
   ]
  },
  {
   "cell_type": "markdown",
   "metadata": {},
   "source": [
    "### Encoding\n",
    "Implement `encoding_layer()` to create a Encoder RNN layer:\n",
    " * Embed the encoder input using [`tf.contrib.layers.embed_sequence`](https://www.tensorflow.org/api_docs/python/tf/contrib/layers/embed_sequence)\n",
    " * Construct a [stacked](https://github.com/tensorflow/tensorflow/blob/6947f65a374ebf29e74bb71e36fd82760056d82c/tensorflow/docs_src/tutorials/recurrent.md#stacking-multiple-lstms) [`tf.contrib.rnn.LSTMCell`](https://www.tensorflow.org/api_docs/python/tf/contrib/rnn/LSTMCell) wrapped in a [`tf.contrib.rnn.DropoutWrapper`](https://www.tensorflow.org/api_docs/python/tf/contrib/rnn/DropoutWrapper)\n",
    " * Pass cell and embedded input to [`tf.nn.dynamic_rnn()`](https://www.tensorflow.org/api_docs/python/tf/nn/dynamic_rnn)"
   ]
  },
  {
   "cell_type": "code",
   "execution_count": 9,
   "metadata": {
    "ExecuteTime": {
     "end_time": "2018-01-23T02:19:31.413761Z",
     "start_time": "2018-01-23T02:19:30.880216Z"
    },
    "scrolled": false
   },
   "outputs": [
    {
     "name": "stdout",
     "output_type": "stream",
     "text": [
      "Tests Passed\n"
     ]
    }
   ],
   "source": [
    "from imp import reload\n",
    "reload(tests)\n",
    "\n",
    "def encoding_layer(rnn_inputs, rnn_size, num_layers, keep_prob, \n",
    "                   source_sequence_length, source_vocab_size, \n",
    "                   encoding_embedding_size):\n",
    "    \"\"\"\n",
    "    Create encoding layer\n",
    "    :param rnn_inputs: Inputs for the RNN\n",
    "    :param rnn_size: RNN Size\n",
    "    :param num_layers: Number of layers\n",
    "    :param keep_prob: Dropout keep probability\n",
    "    :param source_sequence_length: a list of the lengths of each sequence in the batch\n",
    "    :param source_vocab_size: vocabulary size of source data\n",
    "    :param encoding_embedding_size: embedding size of source data\n",
    "    :return: tuple (RNN output, RNN state)\n",
    "    \"\"\"\n",
    "    # lstm\n",
    "    def lstm_cell(lstm_size):\n",
    "        lstm_cell = tf.contrib.rnn.LSTMCell(\n",
    "            lstm_size, \n",
    "            initializer=tf.random_uniform_initializer(-0.1, 0.1, seed=7)\n",
    "        )\n",
    "        return tf.contrib.rnn.DropoutWrapper(lstm_cell, output_keep_prob=keep_prob)\n",
    "    \n",
    "    enc_embed_input = tf.contrib.layers.embed_sequence(rnn_inputs, source_vocab_size, encoding_embedding_size)\n",
    "    stacked_lstm = tf.contrib.rnn.MultiRNNCell([lstm_cell(rnn_size) for _ in range(num_layers)])\n",
    "    enc_out, enc_state = tf.nn.dynamic_rnn(\n",
    "        stacked_lstm, \n",
    "        enc_embed_input, \n",
    "        sequence_length=source_sequence_length, \n",
    "        dtype=tf.float32\n",
    "    )\n",
    "    \n",
    "    return enc_out, enc_state\n",
    "\n",
    "\"\"\"\n",
    "DON'T MODIFY ANYTHING IN THIS CELL THAT IS BELOW THIS LINE\n",
    "\"\"\"\n",
    "tests.test_encoding_layer(encoding_layer)"
   ]
  },
  {
   "cell_type": "markdown",
   "metadata": {},
   "source": [
    "### Decoding - Training\n",
    "Create a training decoding layer:\n",
    "* Create a [`tf.contrib.seq2seq.TrainingHelper`](https://www.tensorflow.org/api_docs/python/tf/contrib/seq2seq/TrainingHelper) \n",
    "* Create a [`tf.contrib.seq2seq.BasicDecoder`](https://www.tensorflow.org/api_docs/python/tf/contrib/seq2seq/BasicDecoder)\n",
    "* Obtain the decoder outputs from [`tf.contrib.seq2seq.dynamic_decode`](https://www.tensorflow.org/api_docs/python/tf/contrib/seq2seq/dynamic_decode)"
   ]
  },
  {
   "cell_type": "code",
   "execution_count": 10,
   "metadata": {
    "ExecuteTime": {
     "end_time": "2018-01-23T02:19:33.854415Z",
     "start_time": "2018-01-23T02:19:33.752277Z"
    }
   },
   "outputs": [
    {
     "name": "stdout",
     "output_type": "stream",
     "text": [
      "Tests Passed\n"
     ]
    }
   ],
   "source": [
    "\n",
    "def decoding_layer_train(encoder_state, dec_cell, dec_embed_input, \n",
    "                         target_sequence_length, max_summary_length, \n",
    "                         output_layer, keep_prob):\n",
    "    \"\"\"\n",
    "    Create a decoding layer for training\n",
    "    :param encoder_state: Encoder State\n",
    "    :param dec_cell: Decoder RNN Cell\n",
    "    :param dec_embed_input: Decoder embedded input\n",
    "    :param target_sequence_length: The lengths of each sequence in the target batch\n",
    "    :param max_summary_length: The length of the longest sequence in the batch\n",
    "    :param output_layer: Function to apply the output layer\n",
    "    :param keep_prob: Dropout keep probability\n",
    "    :return: BasicDecoderOutput containing training logits and sample_id\n",
    "    \"\"\"\n",
    "    # helper\n",
    "    training_helper = tf.contrib.seq2seq.TrainingHelper(\n",
    "        inputs=dec_embed_input, \n",
    "        sequence_length=target_sequence_length\n",
    "    )\n",
    "    \n",
    "    decoder = tf.contrib.seq2seq.BasicDecoder(\n",
    "        cell=dec_cell,\n",
    "        helper=training_helper,\n",
    "        initial_state=encoder_state,\n",
    "        output_layer=output_layer\n",
    "    )\n",
    "    \n",
    "    final_outputs, _ =  tf.contrib.seq2seq.dynamic_decode(\n",
    "        decoder=decoder,\n",
    "        impute_finished=True,\n",
    "        maximum_iterations=max_summary_length\n",
    "    )                                                                                            \n",
    "    \n",
    "    return final_outputs\n",
    "\n",
    "\"\"\"\n",
    "DON'T MODIFY ANYTHING IN THIS CELL THAT IS BELOW THIS LINE\n",
    "\"\"\"\n",
    "tests.test_decoding_layer_train(decoding_layer_train)"
   ]
  },
  {
   "cell_type": "markdown",
   "metadata": {},
   "source": [
    "### Decoding - Inference\n",
    "Create inference decoder:\n",
    "* Create a [`tf.contrib.seq2seq.GreedyEmbeddingHelper`](https://www.tensorflow.org/api_docs/python/tf/contrib/seq2seq/GreedyEmbeddingHelper)\n",
    "* Create a [`tf.contrib.seq2seq.BasicDecoder`](https://www.tensorflow.org/api_docs/python/tf/contrib/seq2seq/BasicDecoder)\n",
    "* Obtain the decoder outputs from [`tf.contrib.seq2seq.dynamic_decode`](https://www.tensorflow.org/api_docs/python/tf/contrib/seq2seq/dynamic_decode)"
   ]
  },
  {
   "cell_type": "code",
   "execution_count": 11,
   "metadata": {
    "ExecuteTime": {
     "end_time": "2018-01-23T02:19:36.014939Z",
     "start_time": "2018-01-23T02:19:35.919837Z"
    },
    "scrolled": true
   },
   "outputs": [
    {
     "name": "stdout",
     "output_type": "stream",
     "text": [
      "Tests Passed\n"
     ]
    }
   ],
   "source": [
    "def decoding_layer_infer(encoder_state, dec_cell, dec_embeddings, start_of_sequence_id,\n",
    "                         end_of_sequence_id, max_target_sequence_length,\n",
    "                         vocab_size, output_layer, batch_size, keep_prob):\n",
    "    \"\"\"\n",
    "    Create a decoding layer for inference\n",
    "    :param encoder_state: Encoder state\n",
    "    :param dec_cell: Decoder RNN Cell\n",
    "    :param dec_embeddings: Decoder embeddings\n",
    "    :param start_of_sequence_id: GO ID\n",
    "    :param end_of_sequence_id: EOS Id\n",
    "    :param max_target_sequence_length: Maximum length of target sequences\n",
    "    :param vocab_size: Size of decoder/target vocabulary\n",
    "    :param decoding_scope: TenorFlow Variable Scope for decoding\n",
    "    :param output_layer: Function to apply the output layer\n",
    "    :param batch_size: Batch size\n",
    "    :param keep_prob: Dropout keep probability\n",
    "    :return: BasicDecoderOutput containing inference logits and sample_id\n",
    "    \"\"\"\n",
    "    # tf.contrib.seq2seq.GreedyEmbeddingHelper\n",
    "    start_tokens = tf.tile(tf.constant([start_of_sequence_id], dtype=tf.int32), [batch_size], name='start_tokens')\n",
    "    inference_helper = tf.contrib.seq2seq.GreedyEmbeddingHelper(\n",
    "        embedding=dec_embeddings,\n",
    "        start_tokens=start_tokens,\n",
    "        end_token=end_of_sequence_id)\n",
    "    \n",
    "    # tf.contrib.seq2seq.BasicDecoder\n",
    "    inference_decoder = tf.contrib.seq2seq.BasicDecoder(\n",
    "        cell=dec_cell,\n",
    "        helper=inference_helper,\n",
    "        initial_state=encoder_state,\n",
    "        output_layer=output_layer)\n",
    "    \n",
    "    # tf.contrib.seq2seq.dynamic_decode\n",
    "    final_outputs, _ = tf.contrib.seq2seq.dynamic_decode(\n",
    "        decoder=inference_decoder, \n",
    "        impute_finished=True,\n",
    "        maximum_iterations=max_target_sequence_length)\n",
    "    \n",
    "    return final_outputs\n",
    "\n",
    "\"\"\"\n",
    "DON'T MODIFY ANYTHING IN THIS CELL THAT IS BELOW THIS LINE\n",
    "\"\"\"\n",
    "tests.test_decoding_layer_infer(decoding_layer_infer)"
   ]
  },
  {
   "cell_type": "markdown",
   "metadata": {},
   "source": [
    "### Build the Decoding Layer\n",
    "Implement `decoding_layer()` to create a Decoder RNN layer.\n",
    "\n",
    "* Embed the target sequences\n",
    "* Construct the decoder LSTM cell (just like you constructed the encoder cell above)\n",
    "* Create an output layer to map the outputs of the decoder to the elements of our vocabulary\n",
    "* Use the your `decoding_layer_train(encoder_state, dec_cell, dec_embed_input, target_sequence_length, max_target_sequence_length, output_layer, keep_prob)` function to get the training logits.\n",
    "* Use your `decoding_layer_infer(encoder_state, dec_cell, dec_embeddings, start_of_sequence_id, end_of_sequence_id, max_target_sequence_length, vocab_size, output_layer, batch_size, keep_prob)` function to get the inference logits.\n",
    "\n",
    "Note: You'll need to use [tf.variable_scope](https://www.tensorflow.org/api_docs/python/tf/variable_scope) to share variables between training and inference."
   ]
  },
  {
   "cell_type": "code",
   "execution_count": 12,
   "metadata": {
    "ExecuteTime": {
     "end_time": "2018-01-23T02:19:38.798686Z",
     "start_time": "2018-01-23T02:19:38.523752Z"
    }
   },
   "outputs": [
    {
     "name": "stdout",
     "output_type": "stream",
     "text": [
      "Tests Passed\n"
     ]
    }
   ],
   "source": [
    "def decoding_layer(dec_input, encoder_state,\n",
    "                   target_sequence_length, max_target_sequence_length,\n",
    "                   rnn_size,\n",
    "                   num_layers, target_vocab_to_int, target_vocab_size,\n",
    "                   batch_size, keep_prob, decoding_embedding_size):\n",
    "    \"\"\"\n",
    "    Create decoding layer\n",
    "    :param dec_input: Decoder input\n",
    "    :param encoder_state: Encoder state\n",
    "    :param target_sequence_length: The lengths of each sequence in the target batch\n",
    "    :param max_target_sequence_length: Maximum length of target sequences\n",
    "    :param rnn_size: RNN Size\n",
    "    :param num_layers: Number of layers\n",
    "    :param target_vocab_to_int: Dictionary to go from the target words to an id\n",
    "    :param target_vocab_size: Size of target vocabulary\n",
    "    :param batch_size: The size of the batch\n",
    "    :param keep_prob: Dropout keep probability\n",
    "    :param decoding_embedding_size: Decoding embedding size\n",
    "    :return: Tuple of (Training BasicDecoderOutput, Inference BasicDecoderOutput)\n",
    "    \"\"\"\n",
    "    # lstm\n",
    "    def lstm_cell(rnn_size):\n",
    "        lstm = tf.contrib.rnn.LSTMCell(rnn_size, initializer=tf.random_uniform_initializer(-0.1, 0.1, seed=2))\n",
    "        return tf.contrib.rnn.DropoutWrapper(lstm, output_keep_prob=keep_prob)\n",
    "    \n",
    "    start_sequence_id = target_vocab_to_int['<GO>']\n",
    "    end_sequence_id = target_vocab_to_int['<EOS>']\n",
    "    \n",
    "    # embed\n",
    "    dec_embeddings = tf.Variable(tf.random_uniform([target_vocab_size, decoding_embedding_size], -1, 1))\n",
    "    dec_embed_input = tf.nn.embedding_lookup(dec_embeddings, dec_input)\n",
    "        \n",
    "    stacked_lstm_cells = tf.contrib.rnn.MultiRNNCell([lstm_cell(rnn_size) for _ in range(num_layers)])\n",
    "    dec_cell = tf.contrib.rnn.DropoutWrapper(stacked_lstm_cells, keep_prob)\n",
    "\n",
    "    # output\n",
    "    output_layer = Dense(target_vocab_size, \n",
    "                         kernel_initializer = tf.truncated_normal_initializer(mean = 0.0, stddev=0.1))\n",
    "\n",
    "    with tf.variable_scope(\"decode\") as decoding_scope:\n",
    "        # training logits\n",
    "        training_logits = decoding_layer_train(\n",
    "            encoder_state, \n",
    "            dec_cell,\n",
    "            dec_embed_input,\n",
    "            target_sequence_length,\n",
    "            max_target_sequence_length,\n",
    "            output_layer,\n",
    "            keep_prob)\n",
    "        \n",
    "        decoding_scope.reuse_variables()\n",
    "        \n",
    "        # inteference logits\n",
    "        inference_logits = decoding_layer_infer(\n",
    "            encoder_state,\n",
    "            dec_cell,\n",
    "            dec_embeddings,                                    \n",
    "            start_sequence_id,               \n",
    "            end_sequence_id,\n",
    "            max_target_sequence_length,\n",
    "            target_vocab_size,\n",
    "            output_layer,\n",
    "            batch_size,\n",
    "            keep_prob)\n",
    "    \n",
    "    return training_logits, inference_logits\n",
    "\n",
    "\"\"\"\n",
    "DON'T MODIFY ANYTHING IN THIS CELL THAT IS BELOW THIS LINE\n",
    "\"\"\"\n",
    "tests.test_decoding_layer(decoding_layer)"
   ]
  },
  {
   "cell_type": "markdown",
   "metadata": {},
   "source": [
    "### Build the Neural Network\n",
    "Apply the functions you implemented above to:\n",
    "\n",
    "- Encode the input using your `encoding_layer(rnn_inputs, rnn_size, num_layers, keep_prob,  source_sequence_length, source_vocab_size, encoding_embedding_size)`.\n",
    "- Process target data using your `process_decoder_input(target_data, target_vocab_to_int, batch_size)` function.\n",
    "- Decode the encoded input using your `decoding_layer(dec_input, enc_state, target_sequence_length, max_target_sentence_length, rnn_size, num_layers, target_vocab_to_int, target_vocab_size, batch_size, keep_prob, dec_embedding_size)` function."
   ]
  },
  {
   "cell_type": "code",
   "execution_count": 13,
   "metadata": {
    "ExecuteTime": {
     "end_time": "2018-01-23T02:19:41.483393Z",
     "start_time": "2018-01-23T02:19:41.057492Z"
    }
   },
   "outputs": [
    {
     "name": "stdout",
     "output_type": "stream",
     "text": [
      "Tests Passed\n"
     ]
    }
   ],
   "source": [
    "def seq2seq_model(input_data, target_data, keep_prob, batch_size,\n",
    "                  source_sequence_length, target_sequence_length,\n",
    "                  max_target_sentence_length,\n",
    "                  source_vocab_size, target_vocab_size,\n",
    "                  enc_embedding_size, dec_embedding_size,\n",
    "                  rnn_size, num_layers, target_vocab_to_int):\n",
    "    \"\"\"\n",
    "    Build the Sequence-to-Sequence part of the neural network\n",
    "    :param input_data: Input placeholder\n",
    "    :param target_data: Target placeholder\n",
    "    :param keep_prob: Dropout keep probability placeholder\n",
    "    :param batch_size: Batch Size\n",
    "    :param source_sequence_length: Sequence Lengths of source sequences in the batch\n",
    "    :param target_sequence_length: Sequence Lengths of target sequences in the batch\n",
    "    :param source_vocab_size: Source vocabulary size\n",
    "    :param target_vocab_size: Target vocabulary size\n",
    "    :param enc_embedding_size: Decoder embedding size\n",
    "    :param dec_embedding_size: Encoder embedding size\n",
    "    :param rnn_size: RNN Size\n",
    "    :param num_layers: Number of layers\n",
    "    :param target_vocab_to_int: Dictionary to go from the target words to an id\n",
    "    :return: Tuple of (Training BasicDecoderOutput, Inference BasicDecoderOutput)\n",
    "    \"\"\"\n",
    "    # encode\n",
    "    _, enc_state = encoding_layer(\n",
    "        input_data,\n",
    "        rnn_size,\n",
    "        num_layers,\n",
    "        keep_prob,\n",
    "        source_sequence_length,\n",
    "        source_vocab_size,\n",
    "        enc_embedding_size\n",
    "    )\n",
    "    \n",
    "    # process\n",
    "    dec_input = process_decoder_input(\n",
    "        target_data, \n",
    "        target_vocab_to_int, \n",
    "        batch_size\n",
    "    )\n",
    "    \n",
    "    # decode\n",
    "    training_logits, inference_logits = decoding_layer(\n",
    "        dec_input,\n",
    "        enc_state,\n",
    "        target_sequence_length,\n",
    "        max_target_sentence_length,\n",
    "        rnn_size, \n",
    "        num_layers,\n",
    "        target_vocab_to_int,\n",
    "        target_vocab_size,\n",
    "        batch_size,\n",
    "        keep_prob,\n",
    "        dec_embedding_size\n",
    "    )\n",
    "    \n",
    "    return training_logits, inference_logits\n",
    "\n",
    "\n",
    "\"\"\"\n",
    "DON'T MODIFY ANYTHING IN THIS CELL THAT IS BELOW THIS LINE\n",
    "\"\"\"\n",
    "tests.test_seq2seq_model(seq2seq_model)"
   ]
  },
  {
   "cell_type": "markdown",
   "metadata": {},
   "source": [
    "## Neural Network Training\n",
    "### Hyperparameters\n",
    "Tune the following parameters:\n",
    "\n",
    "- Set `epochs` to the number of epochs.\n",
    "- Set `batch_size` to the batch size.\n",
    "- Set `rnn_size` to the size of the RNNs.\n",
    "- Set `num_layers` to the number of layers.\n",
    "- Set `encoding_embedding_size` to the size of the embedding for the encoder.\n",
    "- Set `decoding_embedding_size` to the size of the embedding for the decoder.\n",
    "- Set `learning_rate` to the learning rate.\n",
    "- Set `keep_probability` to the Dropout keep probability\n",
    "- Set `display_step` to state how many steps between each debug output statement"
   ]
  },
  {
   "cell_type": "code",
   "execution_count": 14,
   "metadata": {
    "ExecuteTime": {
     "end_time": "2018-01-23T02:19:43.400422Z",
     "start_time": "2018-01-23T02:19:43.372616Z"
    }
   },
   "outputs": [],
   "source": [
    "# Number of Epochs\n",
    "epochs = 5\n",
    "# Batch Size\n",
    "batch_size = 256\n",
    "# RNN Size\n",
    "rnn_size = 256\n",
    "# Number of Layers\n",
    "num_layers = 2\n",
    "# Embedding Size\n",
    "encoding_embedding_size = 128\n",
    "decoding_embedding_size = 128\n",
    "# Learning Rate\n",
    "learning_rate = 0.001\n",
    "# Dropout Keep Probability\n",
    "keep_probability = 0.75\n",
    "display_step = 10"
   ]
  },
  {
   "cell_type": "markdown",
   "metadata": {},
   "source": [
    "### Build the Graph\n",
    "Build the graph using the neural network you implemented."
   ]
  },
  {
   "cell_type": "code",
   "execution_count": 15,
   "metadata": {
    "ExecuteTime": {
     "end_time": "2018-01-23T02:19:46.527464Z",
     "start_time": "2018-01-23T02:19:45.140292Z"
    }
   },
   "outputs": [],
   "source": [
    "\"\"\"\n",
    "DON'T MODIFY ANYTHING IN THIS CELL\n",
    "\"\"\"\n",
    "save_path = 'checkpoints/dev'\n",
    "(source_int_text, target_int_text), (source_vocab_to_int, target_vocab_to_int), _ = helper.load_preprocess()\n",
    "max_target_sentence_length = max([len(sentence) for sentence in source_int_text])\n",
    "\n",
    "train_graph = tf.Graph()\n",
    "with train_graph.as_default():\n",
    "    input_data, targets, lr, keep_prob, target_sequence_length, max_target_sequence_length, source_sequence_length = model_inputs()\n",
    "\n",
    "    #sequence_length = tf.placeholder_with_default(max_target_sentence_length, None, name='sequence_length')\n",
    "    input_shape = tf.shape(input_data)\n",
    "\n",
    "    train_logits, inference_logits = seq2seq_model(tf.reverse(input_data, [-1]),\n",
    "                                                   targets,\n",
    "                                                   keep_prob,\n",
    "                                                   batch_size,\n",
    "                                                   source_sequence_length,\n",
    "                                                   target_sequence_length,\n",
    "                                                   max_target_sequence_length,\n",
    "                                                   len(source_vocab_to_int),\n",
    "                                                   len(target_vocab_to_int),\n",
    "                                                   encoding_embedding_size,\n",
    "                                                   decoding_embedding_size,\n",
    "                                                   rnn_size,\n",
    "                                                   num_layers,\n",
    "                                                   target_vocab_to_int)\n",
    "\n",
    "\n",
    "    training_logits = tf.identity(train_logits.rnn_output, name='logits')\n",
    "    inference_logits = tf.identity(inference_logits.sample_id, name='predictions')\n",
    "\n",
    "    masks = tf.sequence_mask(target_sequence_length, max_target_sequence_length, dtype=tf.float32, name='masks')\n",
    "\n",
    "    with tf.name_scope(\"optimization\"):\n",
    "        # Loss function\n",
    "        cost = tf.contrib.seq2seq.sequence_loss(\n",
    "            training_logits,\n",
    "            targets,\n",
    "            masks)\n",
    "\n",
    "        # Optimizer\n",
    "        optimizer = tf.train.AdamOptimizer(lr)\n",
    "\n",
    "        # Gradient Clipping\n",
    "        gradients = optimizer.compute_gradients(cost)\n",
    "        capped_gradients = [(tf.clip_by_value(grad, -1., 1.), var) for grad, var in gradients if grad is not None]\n",
    "        train_op = optimizer.apply_gradients(capped_gradients)\n"
   ]
  },
  {
   "cell_type": "markdown",
   "metadata": {},
   "source": [
    "Batch and pad the source and target sequences"
   ]
  },
  {
   "cell_type": "code",
   "execution_count": 16,
   "metadata": {
    "ExecuteTime": {
     "end_time": "2018-01-23T02:19:48.042832Z",
     "start_time": "2018-01-23T02:19:48.015068Z"
    }
   },
   "outputs": [],
   "source": [
    "\"\"\"\n",
    "DON'T MODIFY ANYTHING IN THIS CELL\n",
    "\"\"\"\n",
    "def pad_sentence_batch(sentence_batch, pad_int):\n",
    "    \"\"\"Pad sentences with <PAD> so that each sentence of a batch has the same length\"\"\"\n",
    "    max_sentence = max([len(sentence) for sentence in sentence_batch])\n",
    "    return [sentence + [pad_int] * (max_sentence - len(sentence)) for sentence in sentence_batch]\n",
    "\n",
    "\n",
    "def get_batches(sources, targets, batch_size, source_pad_int, target_pad_int):\n",
    "    \"\"\"Batch targets, sources, and the lengths of their sentences together\"\"\"\n",
    "    for batch_i in range(0, len(sources)//batch_size):\n",
    "        start_i = batch_i * batch_size\n",
    "\n",
    "        # Slice the right amount for the batch\n",
    "        sources_batch = sources[start_i:start_i + batch_size]\n",
    "        targets_batch = targets[start_i:start_i + batch_size]\n",
    "\n",
    "        # Pad\n",
    "        pad_sources_batch = np.array(pad_sentence_batch(sources_batch, source_pad_int))\n",
    "        pad_targets_batch = np.array(pad_sentence_batch(targets_batch, target_pad_int))\n",
    "\n",
    "        # Need the lengths for the _lengths parameters\n",
    "        pad_targets_lengths = []\n",
    "        for target in pad_targets_batch:\n",
    "            pad_targets_lengths.append(len(target))\n",
    "\n",
    "        pad_source_lengths = []\n",
    "        for source in pad_sources_batch:\n",
    "            pad_source_lengths.append(len(source))\n",
    "\n",
    "        yield pad_sources_batch, pad_targets_batch, pad_source_lengths, pad_targets_lengths\n"
   ]
  },
  {
   "cell_type": "markdown",
   "metadata": {},
   "source": [
    "### Train\n",
    "Train the neural network on the preprocessed data. If you have a hard time getting a good loss, check the forms to see if anyone is having the same problem."
   ]
  },
  {
   "cell_type": "code",
   "execution_count": 17,
   "metadata": {
    "ExecuteTime": {
     "end_time": "2018-01-23T02:22:23.639597Z",
     "start_time": "2018-01-23T02:19:49.519728Z"
    },
    "scrolled": true
   },
   "outputs": [
    {
     "name": "stdout",
     "output_type": "stream",
     "text": [
      "Epoch   0 Batch   10/538 - Train Accuracy: 0.3104, Validation Accuracy: 0.3919, Loss: 3.4949\n",
      "Epoch   0 Batch   20/538 - Train Accuracy: 0.3984, Validation Accuracy: 0.4395, Loss: 2.6831\n",
      "Epoch   0 Batch   30/538 - Train Accuracy: 0.3484, Validation Accuracy: 0.4290, Loss: 2.4443\n",
      "Epoch   0 Batch   40/538 - Train Accuracy: 0.4364, Validation Accuracy: 0.4402, Loss: 1.9662\n",
      "Epoch   0 Batch   50/538 - Train Accuracy: 0.3840, Validation Accuracy: 0.4474, Loss: 1.8675\n",
      "Epoch   0 Batch   60/538 - Train Accuracy: 0.3883, Validation Accuracy: 0.4570, Loss: 1.7128\n",
      "Epoch   0 Batch   70/538 - Train Accuracy: 0.4148, Validation Accuracy: 0.4631, Loss: 1.4935\n",
      "Epoch   0 Batch   80/538 - Train Accuracy: 0.3787, Validation Accuracy: 0.4451, Loss: 1.4616\n",
      "Epoch   0 Batch   90/538 - Train Accuracy: 0.4308, Validation Accuracy: 0.4663, Loss: 1.3104\n",
      "Epoch   0 Batch  100/538 - Train Accuracy: 0.4387, Validation Accuracy: 0.4732, Loss: 1.2229\n",
      "Epoch   0 Batch  110/538 - Train Accuracy: 0.4412, Validation Accuracy: 0.4940, Loss: 1.2128\n",
      "Epoch   0 Batch  120/538 - Train Accuracy: 0.4434, Validation Accuracy: 0.4970, Loss: 1.0878\n",
      "Epoch   0 Batch  130/538 - Train Accuracy: 0.4890, Validation Accuracy: 0.4934, Loss: 1.0031\n",
      "Epoch   0 Batch  140/538 - Train Accuracy: 0.4490, Validation Accuracy: 0.5037, Loss: 1.0594\n",
      "Epoch   0 Batch  150/538 - Train Accuracy: 0.4900, Validation Accuracy: 0.5293, Loss: 0.9452\n",
      "Epoch   0 Batch  160/538 - Train Accuracy: 0.4918, Validation Accuracy: 0.5252, Loss: 0.8786\n",
      "Epoch   0 Batch  170/538 - Train Accuracy: 0.5379, Validation Accuracy: 0.5325, Loss: 0.8483\n",
      "Epoch   0 Batch  180/538 - Train Accuracy: 0.5495, Validation Accuracy: 0.5476, Loss: 0.8443\n",
      "Epoch   0 Batch  190/538 - Train Accuracy: 0.5712, Validation Accuracy: 0.5696, Loss: 0.8473\n",
      "Epoch   0 Batch  200/538 - Train Accuracy: 0.5404, Validation Accuracy: 0.5605, Loss: 0.7961\n",
      "Epoch   0 Batch  210/538 - Train Accuracy: 0.5578, Validation Accuracy: 0.5664, Loss: 0.7606\n",
      "Epoch   0 Batch  220/538 - Train Accuracy: 0.5493, Validation Accuracy: 0.5824, Loss: 0.7394\n",
      "Epoch   0 Batch  230/538 - Train Accuracy: 0.5609, Validation Accuracy: 0.5765, Loss: 0.7698\n",
      "Epoch   0 Batch  240/538 - Train Accuracy: 0.5789, Validation Accuracy: 0.5989, Loss: 0.7606\n",
      "Epoch   0 Batch  250/538 - Train Accuracy: 0.5768, Validation Accuracy: 0.5831, Loss: 0.7042\n",
      "Epoch   0 Batch  260/538 - Train Accuracy: 0.5805, Validation Accuracy: 0.6009, Loss: 0.7039\n",
      "Epoch   0 Batch  270/538 - Train Accuracy: 0.5904, Validation Accuracy: 0.6062, Loss: 0.6914\n",
      "Epoch   0 Batch  280/538 - Train Accuracy: 0.6384, Validation Accuracy: 0.6110, Loss: 0.6445\n",
      "Epoch   0 Batch  290/538 - Train Accuracy: 0.5777, Validation Accuracy: 0.6106, Loss: 0.6616\n",
      "Epoch   0 Batch  300/538 - Train Accuracy: 0.5991, Validation Accuracy: 0.6092, Loss: 0.6417\n",
      "Epoch   0 Batch  310/538 - Train Accuracy: 0.6197, Validation Accuracy: 0.6167, Loss: 0.6372\n",
      "Epoch   0 Batch  320/538 - Train Accuracy: 0.6170, Validation Accuracy: 0.6143, Loss: 0.6152\n",
      "Epoch   0 Batch  330/538 - Train Accuracy: 0.6198, Validation Accuracy: 0.6053, Loss: 0.5874\n",
      "Epoch   0 Batch  340/538 - Train Accuracy: 0.6031, Validation Accuracy: 0.6138, Loss: 0.6278\n",
      "Epoch   0 Batch  350/538 - Train Accuracy: 0.6239, Validation Accuracy: 0.6323, Loss: 0.5978\n",
      "Epoch   0 Batch  360/538 - Train Accuracy: 0.6129, Validation Accuracy: 0.6351, Loss: 0.6045\n",
      "Epoch   0 Batch  370/538 - Train Accuracy: 0.6260, Validation Accuracy: 0.6346, Loss: 0.6091\n",
      "Epoch   0 Batch  380/538 - Train Accuracy: 0.6102, Validation Accuracy: 0.6408, Loss: 0.5723\n",
      "Epoch   0 Batch  390/538 - Train Accuracy: 0.6665, Validation Accuracy: 0.6406, Loss: 0.5481\n",
      "Epoch   0 Batch  400/538 - Train Accuracy: 0.6384, Validation Accuracy: 0.6511, Loss: 0.5608\n",
      "Epoch   0 Batch  410/538 - Train Accuracy: 0.6268, Validation Accuracy: 0.6483, Loss: 0.5730\n",
      "Epoch   0 Batch  420/538 - Train Accuracy: 0.6346, Validation Accuracy: 0.6594, Loss: 0.5501\n",
      "Epoch   0 Batch  430/538 - Train Accuracy: 0.6510, Validation Accuracy: 0.6499, Loss: 0.5477\n",
      "Epoch   0 Batch  440/538 - Train Accuracy: 0.6393, Validation Accuracy: 0.6570, Loss: 0.5697\n",
      "Epoch   0 Batch  450/538 - Train Accuracy: 0.6657, Validation Accuracy: 0.6502, Loss: 0.5295\n",
      "Epoch   0 Batch  460/538 - Train Accuracy: 0.6300, Validation Accuracy: 0.6628, Loss: 0.5020\n",
      "Epoch   0 Batch  470/538 - Train Accuracy: 0.6438, Validation Accuracy: 0.6568, Loss: 0.4969\n",
      "Epoch   0 Batch  480/538 - Train Accuracy: 0.6455, Validation Accuracy: 0.6509, Loss: 0.4926\n",
      "Epoch   0 Batch  490/538 - Train Accuracy: 0.6762, Validation Accuracy: 0.6444, Loss: 0.4869\n",
      "Epoch   0 Batch  500/538 - Train Accuracy: 0.6841, Validation Accuracy: 0.6575, Loss: 0.4380\n",
      "Epoch   0 Batch  510/538 - Train Accuracy: 0.6782, Validation Accuracy: 0.6573, Loss: 0.4615\n",
      "Epoch   0 Batch  520/538 - Train Accuracy: 0.6648, Validation Accuracy: 0.6616, Loss: 0.4715\n",
      "Epoch   0 Batch  530/538 - Train Accuracy: 0.6947, Validation Accuracy: 0.6752, Loss: 0.4648\n",
      "Epoch   1 Batch   10/538 - Train Accuracy: 0.6865, Validation Accuracy: 0.6790, Loss: 0.4576\n",
      "Epoch   1 Batch   20/538 - Train Accuracy: 0.6977, Validation Accuracy: 0.6912, Loss: 0.4411\n",
      "Epoch   1 Batch   30/538 - Train Accuracy: 0.6916, Validation Accuracy: 0.6911, Loss: 0.4430\n",
      "Epoch   1 Batch   40/538 - Train Accuracy: 0.7267, Validation Accuracy: 0.6964, Loss: 0.3716\n",
      "Epoch   1 Batch   50/538 - Train Accuracy: 0.7145, Validation Accuracy: 0.7095, Loss: 0.4105\n",
      "Epoch   1 Batch   60/538 - Train Accuracy: 0.7525, Validation Accuracy: 0.7010, Loss: 0.3972\n",
      "Epoch   1 Batch   70/538 - Train Accuracy: 0.7167, Validation Accuracy: 0.7191, Loss: 0.3737\n",
      "Epoch   1 Batch   80/538 - Train Accuracy: 0.7393, Validation Accuracy: 0.7344, Loss: 0.3955\n",
      "Epoch   1 Batch   90/538 - Train Accuracy: 0.7537, Validation Accuracy: 0.7331, Loss: 0.3768\n",
      "Epoch   1 Batch  100/538 - Train Accuracy: 0.7680, Validation Accuracy: 0.7463, Loss: 0.3468\n",
      "Epoch   1 Batch  110/538 - Train Accuracy: 0.7748, Validation Accuracy: 0.7418, Loss: 0.3529\n",
      "Epoch   1 Batch  120/538 - Train Accuracy: 0.7932, Validation Accuracy: 0.7541, Loss: 0.3208\n",
      "Epoch   1 Batch  130/538 - Train Accuracy: 0.7879, Validation Accuracy: 0.7718, Loss: 0.3160\n",
      "Epoch   1 Batch  140/538 - Train Accuracy: 0.7562, Validation Accuracy: 0.7713, Loss: 0.3461\n",
      "Epoch   1 Batch  150/538 - Train Accuracy: 0.8053, Validation Accuracy: 0.7884, Loss: 0.3147\n",
      "Epoch   1 Batch  160/538 - Train Accuracy: 0.7773, Validation Accuracy: 0.7761, Loss: 0.2976\n",
      "Epoch   1 Batch  170/538 - Train Accuracy: 0.7932, Validation Accuracy: 0.7860, Loss: 0.2951\n",
      "Epoch   1 Batch  180/538 - Train Accuracy: 0.8144, Validation Accuracy: 0.7942, Loss: 0.2799\n",
      "Epoch   1 Batch  190/538 - Train Accuracy: 0.7954, Validation Accuracy: 0.8024, Loss: 0.2977\n",
      "Epoch   1 Batch  200/538 - Train Accuracy: 0.8342, Validation Accuracy: 0.8038, Loss: 0.2674\n",
      "Epoch   1 Batch  210/538 - Train Accuracy: 0.8090, Validation Accuracy: 0.8295, Loss: 0.2614\n",
      "Epoch   1 Batch  220/538 - Train Accuracy: 0.7948, Validation Accuracy: 0.8168, Loss: 0.2512\n",
      "Epoch   1 Batch  230/538 - Train Accuracy: 0.8402, Validation Accuracy: 0.8279, Loss: 0.2565\n",
      "Epoch   1 Batch  240/538 - Train Accuracy: 0.8445, Validation Accuracy: 0.8345, Loss: 0.2489\n",
      "Epoch   1 Batch  250/538 - Train Accuracy: 0.8600, Validation Accuracy: 0.8267, Loss: 0.2331\n",
      "Epoch   1 Batch  260/538 - Train Accuracy: 0.8237, Validation Accuracy: 0.8384, Loss: 0.2383\n",
      "Epoch   1 Batch  270/538 - Train Accuracy: 0.8602, Validation Accuracy: 0.8434, Loss: 0.2237\n",
      "Epoch   1 Batch  280/538 - Train Accuracy: 0.8698, Validation Accuracy: 0.8487, Loss: 0.2131\n",
      "Epoch   1 Batch  290/538 - Train Accuracy: 0.8488, Validation Accuracy: 0.8350, Loss: 0.2057\n",
      "Epoch   1 Batch  300/538 - Train Accuracy: 0.8594, Validation Accuracy: 0.8361, Loss: 0.2126\n",
      "Epoch   1 Batch  310/538 - Train Accuracy: 0.8975, Validation Accuracy: 0.8645, Loss: 0.1975\n",
      "Epoch   1 Batch  320/538 - Train Accuracy: 0.8850, Validation Accuracy: 0.8663, Loss: 0.1898\n",
      "Epoch   1 Batch  330/538 - Train Accuracy: 0.8806, Validation Accuracy: 0.8615, Loss: 0.1829\n",
      "Epoch   1 Batch  340/538 - Train Accuracy: 0.8824, Validation Accuracy: 0.8768, Loss: 0.1882\n",
      "Epoch   1 Batch  350/538 - Train Accuracy: 0.8966, Validation Accuracy: 0.8755, Loss: 0.1865\n",
      "Epoch   1 Batch  360/538 - Train Accuracy: 0.8809, Validation Accuracy: 0.8867, Loss: 0.1827\n"
     ]
    },
    {
     "name": "stdout",
     "output_type": "stream",
     "text": [
      "Epoch   1 Batch  370/538 - Train Accuracy: 0.9002, Validation Accuracy: 0.8730, Loss: 0.1869\n",
      "Epoch   1 Batch  380/538 - Train Accuracy: 0.8770, Validation Accuracy: 0.8906, Loss: 0.1570\n",
      "Epoch   1 Batch  390/538 - Train Accuracy: 0.9100, Validation Accuracy: 0.8951, Loss: 0.1571\n",
      "Epoch   1 Batch  400/538 - Train Accuracy: 0.9014, Validation Accuracy: 0.9011, Loss: 0.1595\n",
      "Epoch   1 Batch  410/538 - Train Accuracy: 0.8898, Validation Accuracy: 0.8940, Loss: 0.1680\n",
      "Epoch   1 Batch  420/538 - Train Accuracy: 0.9170, Validation Accuracy: 0.8917, Loss: 0.1446\n",
      "Epoch   1 Batch  430/538 - Train Accuracy: 0.8936, Validation Accuracy: 0.8999, Loss: 0.1467\n",
      "Epoch   1 Batch  440/538 - Train Accuracy: 0.9020, Validation Accuracy: 0.9057, Loss: 0.1508\n",
      "Epoch   1 Batch  450/538 - Train Accuracy: 0.8765, Validation Accuracy: 0.8990, Loss: 0.1559\n",
      "Epoch   1 Batch  460/538 - Train Accuracy: 0.8901, Validation Accuracy: 0.9032, Loss: 0.1337\n",
      "Epoch   1 Batch  470/538 - Train Accuracy: 0.9120, Validation Accuracy: 0.9080, Loss: 0.1269\n",
      "Epoch   1 Batch  480/538 - Train Accuracy: 0.9204, Validation Accuracy: 0.9000, Loss: 0.1245\n",
      "Epoch   1 Batch  490/538 - Train Accuracy: 0.9120, Validation Accuracy: 0.8871, Loss: 0.1182\n",
      "Epoch   1 Batch  500/538 - Train Accuracy: 0.9203, Validation Accuracy: 0.9054, Loss: 0.1011\n",
      "Epoch   1 Batch  510/538 - Train Accuracy: 0.9319, Validation Accuracy: 0.8956, Loss: 0.1049\n",
      "Epoch   1 Batch  520/538 - Train Accuracy: 0.9125, Validation Accuracy: 0.9039, Loss: 0.1100\n",
      "Epoch   1 Batch  530/538 - Train Accuracy: 0.8854, Validation Accuracy: 0.9087, Loss: 0.1235\n",
      "Epoch   2 Batch   10/538 - Train Accuracy: 0.9061, Validation Accuracy: 0.8908, Loss: 0.1089\n",
      "Epoch   2 Batch   20/538 - Train Accuracy: 0.9005, Validation Accuracy: 0.9114, Loss: 0.1057\n",
      "Epoch   2 Batch   30/538 - Train Accuracy: 0.9141, Validation Accuracy: 0.9091, Loss: 0.1121\n",
      "Epoch   2 Batch   40/538 - Train Accuracy: 0.9167, Validation Accuracy: 0.9109, Loss: 0.0855\n",
      "Epoch   2 Batch   50/538 - Train Accuracy: 0.9080, Validation Accuracy: 0.9148, Loss: 0.0976\n",
      "Epoch   2 Batch   60/538 - Train Accuracy: 0.9311, Validation Accuracy: 0.9206, Loss: 0.0878\n",
      "Epoch   2 Batch   70/538 - Train Accuracy: 0.9161, Validation Accuracy: 0.9016, Loss: 0.0933\n",
      "Epoch   2 Batch   80/538 - Train Accuracy: 0.9068, Validation Accuracy: 0.9192, Loss: 0.0981\n",
      "Epoch   2 Batch   90/538 - Train Accuracy: 0.9137, Validation Accuracy: 0.9171, Loss: 0.1008\n",
      "Epoch   2 Batch  100/538 - Train Accuracy: 0.9322, Validation Accuracy: 0.9151, Loss: 0.0840\n",
      "Epoch   2 Batch  110/538 - Train Accuracy: 0.9223, Validation Accuracy: 0.9054, Loss: 0.0892\n",
      "Epoch   2 Batch  120/538 - Train Accuracy: 0.9295, Validation Accuracy: 0.9213, Loss: 0.0790\n",
      "Epoch   2 Batch  130/538 - Train Accuracy: 0.9368, Validation Accuracy: 0.9270, Loss: 0.0761\n",
      "Epoch   2 Batch  140/538 - Train Accuracy: 0.9055, Validation Accuracy: 0.9219, Loss: 0.0980\n",
      "Epoch   2 Batch  150/538 - Train Accuracy: 0.9402, Validation Accuracy: 0.9254, Loss: 0.0730\n",
      "Epoch   2 Batch  160/538 - Train Accuracy: 0.9023, Validation Accuracy: 0.9221, Loss: 0.0717\n",
      "Epoch   2 Batch  170/538 - Train Accuracy: 0.9094, Validation Accuracy: 0.9309, Loss: 0.0828\n",
      "Epoch   2 Batch  180/538 - Train Accuracy: 0.9293, Validation Accuracy: 0.9217, Loss: 0.0794\n",
      "Epoch   2 Batch  190/538 - Train Accuracy: 0.9120, Validation Accuracy: 0.9231, Loss: 0.0984\n",
      "Epoch   2 Batch  200/538 - Train Accuracy: 0.9270, Validation Accuracy: 0.9345, Loss: 0.0668\n",
      "Epoch   2 Batch  210/538 - Train Accuracy: 0.9178, Validation Accuracy: 0.9196, Loss: 0.0769\n",
      "Epoch   2 Batch  220/538 - Train Accuracy: 0.9289, Validation Accuracy: 0.9327, Loss: 0.0739\n",
      "Epoch   2 Batch  230/538 - Train Accuracy: 0.9236, Validation Accuracy: 0.9181, Loss: 0.0770\n",
      "Epoch   2 Batch  240/538 - Train Accuracy: 0.9330, Validation Accuracy: 0.9228, Loss: 0.0764\n",
      "Epoch   2 Batch  250/538 - Train Accuracy: 0.9330, Validation Accuracy: 0.9267, Loss: 0.0738\n",
      "Epoch   2 Batch  260/538 - Train Accuracy: 0.9262, Validation Accuracy: 0.9196, Loss: 0.0767\n",
      "Epoch   2 Batch  270/538 - Train Accuracy: 0.9361, Validation Accuracy: 0.9338, Loss: 0.0635\n",
      "Epoch   2 Batch  280/538 - Train Accuracy: 0.9267, Validation Accuracy: 0.9208, Loss: 0.0666\n",
      "Epoch   2 Batch  290/538 - Train Accuracy: 0.9533, Validation Accuracy: 0.9339, Loss: 0.0583\n",
      "Epoch   2 Batch  300/538 - Train Accuracy: 0.9304, Validation Accuracy: 0.9308, Loss: 0.0737\n",
      "Epoch   2 Batch  310/538 - Train Accuracy: 0.9545, Validation Accuracy: 0.9311, Loss: 0.0669\n",
      "Epoch   2 Batch  320/538 - Train Accuracy: 0.9159, Validation Accuracy: 0.9345, Loss: 0.0624\n",
      "Epoch   2 Batch  330/538 - Train Accuracy: 0.9355, Validation Accuracy: 0.9411, Loss: 0.0640\n",
      "Epoch   2 Batch  340/538 - Train Accuracy: 0.9207, Validation Accuracy: 0.9373, Loss: 0.0674\n",
      "Epoch   2 Batch  350/538 - Train Accuracy: 0.9475, Validation Accuracy: 0.9345, Loss: 0.0664\n",
      "Epoch   2 Batch  360/538 - Train Accuracy: 0.9297, Validation Accuracy: 0.9379, Loss: 0.0664\n",
      "Epoch   2 Batch  370/538 - Train Accuracy: 0.9389, Validation Accuracy: 0.9444, Loss: 0.0621\n",
      "Epoch   2 Batch  380/538 - Train Accuracy: 0.9465, Validation Accuracy: 0.9414, Loss: 0.0547\n",
      "Epoch   2 Batch  390/538 - Train Accuracy: 0.9561, Validation Accuracy: 0.9476, Loss: 0.0574\n",
      "Epoch   2 Batch  400/538 - Train Accuracy: 0.9500, Validation Accuracy: 0.9382, Loss: 0.0585\n",
      "Epoch   2 Batch  410/538 - Train Accuracy: 0.9361, Validation Accuracy: 0.9322, Loss: 0.0642\n",
      "Epoch   2 Batch  420/538 - Train Accuracy: 0.9424, Validation Accuracy: 0.9419, Loss: 0.0530\n",
      "Epoch   2 Batch  430/538 - Train Accuracy: 0.9338, Validation Accuracy: 0.9421, Loss: 0.0567\n",
      "Epoch   2 Batch  440/538 - Train Accuracy: 0.9338, Validation Accuracy: 0.9411, Loss: 0.0630\n",
      "Epoch   2 Batch  450/538 - Train Accuracy: 0.9174, Validation Accuracy: 0.9329, Loss: 0.0713\n",
      "Epoch   2 Batch  460/538 - Train Accuracy: 0.9239, Validation Accuracy: 0.9409, Loss: 0.0598\n",
      "Epoch   2 Batch  470/538 - Train Accuracy: 0.9338, Validation Accuracy: 0.9444, Loss: 0.0602\n",
      "Epoch   2 Batch  480/538 - Train Accuracy: 0.9561, Validation Accuracy: 0.9366, Loss: 0.0562\n",
      "Epoch   2 Batch  490/538 - Train Accuracy: 0.9422, Validation Accuracy: 0.9474, Loss: 0.0534\n",
      "Epoch   2 Batch  500/538 - Train Accuracy: 0.9496, Validation Accuracy: 0.9359, Loss: 0.0479\n",
      "Epoch   2 Batch  510/538 - Train Accuracy: 0.9585, Validation Accuracy: 0.9418, Loss: 0.0496\n",
      "Epoch   2 Batch  520/538 - Train Accuracy: 0.9449, Validation Accuracy: 0.9480, Loss: 0.0488\n",
      "Epoch   2 Batch  530/538 - Train Accuracy: 0.9139, Validation Accuracy: 0.9460, Loss: 0.0605\n",
      "Epoch   3 Batch   10/538 - Train Accuracy: 0.9354, Validation Accuracy: 0.9322, Loss: 0.0565\n",
      "Epoch   3 Batch   20/538 - Train Accuracy: 0.9518, Validation Accuracy: 0.9556, Loss: 0.0586\n",
      "Epoch   3 Batch   30/538 - Train Accuracy: 0.9424, Validation Accuracy: 0.9437, Loss: 0.0585\n",
      "Epoch   3 Batch   40/538 - Train Accuracy: 0.9448, Validation Accuracy: 0.9412, Loss: 0.0415\n",
      "Epoch   3 Batch   50/538 - Train Accuracy: 0.9287, Validation Accuracy: 0.9455, Loss: 0.0458\n",
      "Epoch   3 Batch   60/538 - Train Accuracy: 0.9461, Validation Accuracy: 0.9244, Loss: 0.0472\n",
      "Epoch   3 Batch   70/538 - Train Accuracy: 0.9481, Validation Accuracy: 0.9402, Loss: 0.0471\n",
      "Epoch   3 Batch   80/538 - Train Accuracy: 0.9410, Validation Accuracy: 0.9450, Loss: 0.0542\n",
      "Epoch   3 Batch   90/538 - Train Accuracy: 0.9327, Validation Accuracy: 0.9480, Loss: 0.0521\n",
      "Epoch   3 Batch  100/538 - Train Accuracy: 0.9564, Validation Accuracy: 0.9615, Loss: 0.0427\n",
      "Epoch   3 Batch  110/538 - Train Accuracy: 0.9451, Validation Accuracy: 0.9535, Loss: 0.0471\n",
      "Epoch   3 Batch  120/538 - Train Accuracy: 0.9455, Validation Accuracy: 0.9529, Loss: 0.0398\n",
      "Epoch   3 Batch  130/538 - Train Accuracy: 0.9585, Validation Accuracy: 0.9615, Loss: 0.0448\n",
      "Epoch   3 Batch  140/538 - Train Accuracy: 0.9412, Validation Accuracy: 0.9499, Loss: 0.0613\n",
      "Epoch   3 Batch  150/538 - Train Accuracy: 0.9566, Validation Accuracy: 0.9634, Loss: 0.0417\n",
      "Epoch   3 Batch  160/538 - Train Accuracy: 0.9169, Validation Accuracy: 0.9622, Loss: 0.0396\n",
      "Epoch   3 Batch  170/538 - Train Accuracy: 0.9487, Validation Accuracy: 0.9565, Loss: 0.0463\n",
      "Epoch   3 Batch  180/538 - Train Accuracy: 0.9554, Validation Accuracy: 0.9585, Loss: 0.0480\n",
      "Epoch   3 Batch  190/538 - Train Accuracy: 0.9390, Validation Accuracy: 0.9544, Loss: 0.0593\n"
     ]
    },
    {
     "name": "stdout",
     "output_type": "stream",
     "text": [
      "Epoch   3 Batch  200/538 - Train Accuracy: 0.9563, Validation Accuracy: 0.9540, Loss: 0.0405\n",
      "Epoch   3 Batch  210/538 - Train Accuracy: 0.9356, Validation Accuracy: 0.9492, Loss: 0.0479\n",
      "Epoch   3 Batch  220/538 - Train Accuracy: 0.9399, Validation Accuracy: 0.9489, Loss: 0.0473\n",
      "Epoch   3 Batch  230/538 - Train Accuracy: 0.9469, Validation Accuracy: 0.9478, Loss: 0.0429\n",
      "Epoch   3 Batch  240/538 - Train Accuracy: 0.9543, Validation Accuracy: 0.9473, Loss: 0.0450\n",
      "Epoch   3 Batch  250/538 - Train Accuracy: 0.9523, Validation Accuracy: 0.9538, Loss: 0.0474\n",
      "Epoch   3 Batch  260/538 - Train Accuracy: 0.9232, Validation Accuracy: 0.9425, Loss: 0.0524\n",
      "Epoch   3 Batch  270/538 - Train Accuracy: 0.9504, Validation Accuracy: 0.9457, Loss: 0.0412\n",
      "Epoch   3 Batch  280/538 - Train Accuracy: 0.9587, Validation Accuracy: 0.9604, Loss: 0.0403\n",
      "Epoch   3 Batch  290/538 - Train Accuracy: 0.9660, Validation Accuracy: 0.9609, Loss: 0.0333\n",
      "Epoch   3 Batch  300/538 - Train Accuracy: 0.9392, Validation Accuracy: 0.9647, Loss: 0.0447\n",
      "Epoch   3 Batch  310/538 - Train Accuracy: 0.9625, Validation Accuracy: 0.9631, Loss: 0.0419\n",
      "Epoch   3 Batch  320/538 - Train Accuracy: 0.9464, Validation Accuracy: 0.9563, Loss: 0.0386\n",
      "Epoch   3 Batch  330/538 - Train Accuracy: 0.9661, Validation Accuracy: 0.9615, Loss: 0.0390\n",
      "Epoch   3 Batch  340/538 - Train Accuracy: 0.9504, Validation Accuracy: 0.9650, Loss: 0.0426\n",
      "Epoch   3 Batch  350/538 - Train Accuracy: 0.9587, Validation Accuracy: 0.9664, Loss: 0.0466\n",
      "Epoch   3 Batch  360/538 - Train Accuracy: 0.9611, Validation Accuracy: 0.9608, Loss: 0.0368\n",
      "Epoch   3 Batch  370/538 - Train Accuracy: 0.9537, Validation Accuracy: 0.9624, Loss: 0.0390\n",
      "Epoch   3 Batch  380/538 - Train Accuracy: 0.9582, Validation Accuracy: 0.9554, Loss: 0.0376\n",
      "Epoch   3 Batch  390/538 - Train Accuracy: 0.9492, Validation Accuracy: 0.9384, Loss: 0.0389\n",
      "Epoch   3 Batch  400/538 - Train Accuracy: 0.9589, Validation Accuracy: 0.9592, Loss: 0.0391\n",
      "Epoch   3 Batch  410/538 - Train Accuracy: 0.9549, Validation Accuracy: 0.9560, Loss: 0.0404\n",
      "Epoch   3 Batch  420/538 - Train Accuracy: 0.9563, Validation Accuracy: 0.9645, Loss: 0.0385\n",
      "Epoch   3 Batch  430/538 - Train Accuracy: 0.9408, Validation Accuracy: 0.9608, Loss: 0.0388\n",
      "Epoch   3 Batch  440/538 - Train Accuracy: 0.9574, Validation Accuracy: 0.9631, Loss: 0.0420\n",
      "Epoch   3 Batch  450/538 - Train Accuracy: 0.9386, Validation Accuracy: 0.9712, Loss: 0.0566\n",
      "Epoch   3 Batch  460/538 - Train Accuracy: 0.9444, Validation Accuracy: 0.9696, Loss: 0.0451\n",
      "Epoch   3 Batch  470/538 - Train Accuracy: 0.9500, Validation Accuracy: 0.9670, Loss: 0.0378\n",
      "Epoch   3 Batch  480/538 - Train Accuracy: 0.9663, Validation Accuracy: 0.9592, Loss: 0.0375\n",
      "Epoch   3 Batch  490/538 - Train Accuracy: 0.9435, Validation Accuracy: 0.9648, Loss: 0.0358\n",
      "Epoch   3 Batch  500/538 - Train Accuracy: 0.9734, Validation Accuracy: 0.9567, Loss: 0.0270\n",
      "Epoch   3 Batch  510/538 - Train Accuracy: 0.9671, Validation Accuracy: 0.9577, Loss: 0.0339\n",
      "Epoch   3 Batch  520/538 - Train Accuracy: 0.9662, Validation Accuracy: 0.9593, Loss: 0.0330\n",
      "Epoch   3 Batch  530/538 - Train Accuracy: 0.9414, Validation Accuracy: 0.9553, Loss: 0.0410\n",
      "Epoch   4 Batch   10/538 - Train Accuracy: 0.9641, Validation Accuracy: 0.9622, Loss: 0.0384\n",
      "Epoch   4 Batch   20/538 - Train Accuracy: 0.9604, Validation Accuracy: 0.9712, Loss: 0.0374\n",
      "Epoch   4 Batch   30/538 - Train Accuracy: 0.9541, Validation Accuracy: 0.9620, Loss: 0.0437\n",
      "Epoch   4 Batch   40/538 - Train Accuracy: 0.9641, Validation Accuracy: 0.9647, Loss: 0.0283\n",
      "Epoch   4 Batch   50/538 - Train Accuracy: 0.9607, Validation Accuracy: 0.9558, Loss: 0.0354\n",
      "Epoch   4 Batch   60/538 - Train Accuracy: 0.9527, Validation Accuracy: 0.9395, Loss: 0.0361\n",
      "Epoch   4 Batch   70/538 - Train Accuracy: 0.9608, Validation Accuracy: 0.9567, Loss: 0.0281\n",
      "Epoch   4 Batch   80/538 - Train Accuracy: 0.9584, Validation Accuracy: 0.9537, Loss: 0.0351\n",
      "Epoch   4 Batch   90/538 - Train Accuracy: 0.9600, Validation Accuracy: 0.9663, Loss: 0.0391\n",
      "Epoch   4 Batch  100/538 - Train Accuracy: 0.9779, Validation Accuracy: 0.9652, Loss: 0.0309\n",
      "Epoch   4 Batch  110/538 - Train Accuracy: 0.9553, Validation Accuracy: 0.9524, Loss: 0.0352\n",
      "Epoch   4 Batch  120/538 - Train Accuracy: 0.9748, Validation Accuracy: 0.9636, Loss: 0.0269\n",
      "Epoch   4 Batch  130/538 - Train Accuracy: 0.9598, Validation Accuracy: 0.9707, Loss: 0.0344\n",
      "Epoch   4 Batch  140/538 - Train Accuracy: 0.9531, Validation Accuracy: 0.9616, Loss: 0.0505\n",
      "Epoch   4 Batch  150/538 - Train Accuracy: 0.9570, Validation Accuracy: 0.9613, Loss: 0.0312\n",
      "Epoch   4 Batch  160/538 - Train Accuracy: 0.9477, Validation Accuracy: 0.9533, Loss: 0.0312\n",
      "Epoch   4 Batch  170/538 - Train Accuracy: 0.9684, Validation Accuracy: 0.9650, Loss: 0.0313\n",
      "Epoch   4 Batch  180/538 - Train Accuracy: 0.9568, Validation Accuracy: 0.9650, Loss: 0.0311\n",
      "Epoch   4 Batch  190/538 - Train Accuracy: 0.9583, Validation Accuracy: 0.9648, Loss: 0.0498\n",
      "Epoch   4 Batch  200/538 - Train Accuracy: 0.9715, Validation Accuracy: 0.9652, Loss: 0.0280\n",
      "Epoch   4 Batch  210/538 - Train Accuracy: 0.9691, Validation Accuracy: 0.9618, Loss: 0.0344\n",
      "Epoch   4 Batch  220/538 - Train Accuracy: 0.9518, Validation Accuracy: 0.9513, Loss: 0.0354\n",
      "Epoch   4 Batch  230/538 - Train Accuracy: 0.9627, Validation Accuracy: 0.9592, Loss: 0.0324\n",
      "Epoch   4 Batch  240/538 - Train Accuracy: 0.9652, Validation Accuracy: 0.9592, Loss: 0.0331\n",
      "Epoch   4 Batch  250/538 - Train Accuracy: 0.9629, Validation Accuracy: 0.9570, Loss: 0.0316\n",
      "Epoch   4 Batch  260/538 - Train Accuracy: 0.9321, Validation Accuracy: 0.9673, Loss: 0.0342\n",
      "Epoch   4 Batch  270/538 - Train Accuracy: 0.9602, Validation Accuracy: 0.9682, Loss: 0.0307\n",
      "Epoch   4 Batch  280/538 - Train Accuracy: 0.9613, Validation Accuracy: 0.9675, Loss: 0.0239\n",
      "Epoch   4 Batch  290/538 - Train Accuracy: 0.9699, Validation Accuracy: 0.9778, Loss: 0.0287\n",
      "Epoch   4 Batch  300/538 - Train Accuracy: 0.9617, Validation Accuracy: 0.9734, Loss: 0.0318\n",
      "Epoch   4 Batch  310/538 - Train Accuracy: 0.9766, Validation Accuracy: 0.9664, Loss: 0.0299\n",
      "Epoch   4 Batch  320/538 - Train Accuracy: 0.9652, Validation Accuracy: 0.9677, Loss: 0.0302\n",
      "Epoch   4 Batch  330/538 - Train Accuracy: 0.9699, Validation Accuracy: 0.9718, Loss: 0.0317\n",
      "Epoch   4 Batch  340/538 - Train Accuracy: 0.9598, Validation Accuracy: 0.9714, Loss: 0.0286\n",
      "Epoch   4 Batch  350/538 - Train Accuracy: 0.9667, Validation Accuracy: 0.9650, Loss: 0.0356\n",
      "Epoch   4 Batch  360/538 - Train Accuracy: 0.9709, Validation Accuracy: 0.9703, Loss: 0.0252\n",
      "Epoch   4 Batch  370/538 - Train Accuracy: 0.9660, Validation Accuracy: 0.9608, Loss: 0.0285\n",
      "Epoch   4 Batch  380/538 - Train Accuracy: 0.9631, Validation Accuracy: 0.9700, Loss: 0.0297\n",
      "Epoch   4 Batch  390/538 - Train Accuracy: 0.9656, Validation Accuracy: 0.9577, Loss: 0.0233\n",
      "Epoch   4 Batch  400/538 - Train Accuracy: 0.9680, Validation Accuracy: 0.9705, Loss: 0.0312\n",
      "Epoch   4 Batch  410/538 - Train Accuracy: 0.9691, Validation Accuracy: 0.9643, Loss: 0.0267\n",
      "Epoch   4 Batch  420/538 - Train Accuracy: 0.9611, Validation Accuracy: 0.9723, Loss: 0.0286\n",
      "Epoch   4 Batch  430/538 - Train Accuracy: 0.9641, Validation Accuracy: 0.9661, Loss: 0.0267\n",
      "Epoch   4 Batch  440/538 - Train Accuracy: 0.9625, Validation Accuracy: 0.9654, Loss: 0.0280\n",
      "Epoch   4 Batch  450/538 - Train Accuracy: 0.9570, Validation Accuracy: 0.9753, Loss: 0.0398\n",
      "Epoch   4 Batch  460/538 - Train Accuracy: 0.9602, Validation Accuracy: 0.9728, Loss: 0.0272\n",
      "Epoch   4 Batch  470/538 - Train Accuracy: 0.9602, Validation Accuracy: 0.9696, Loss: 0.0312\n",
      "Epoch   4 Batch  480/538 - Train Accuracy: 0.9727, Validation Accuracy: 0.9625, Loss: 0.0274\n",
      "Epoch   4 Batch  490/538 - Train Accuracy: 0.9563, Validation Accuracy: 0.9727, Loss: 0.0269\n",
      "Epoch   4 Batch  500/538 - Train Accuracy: 0.9819, Validation Accuracy: 0.9616, Loss: 0.0180\n",
      "Epoch   4 Batch  510/538 - Train Accuracy: 0.9754, Validation Accuracy: 0.9680, Loss: 0.0242\n",
      "Epoch   4 Batch  520/538 - Train Accuracy: 0.9730, Validation Accuracy: 0.9645, Loss: 0.0280\n",
      "Epoch   4 Batch  530/538 - Train Accuracy: 0.9580, Validation Accuracy: 0.9632, Loss: 0.0318\n",
      "Model Trained and Saved\n"
     ]
    }
   ],
   "source": [
    "\"\"\"\n",
    "DON'T MODIFY ANYTHING IN THIS CELL\n",
    "\"\"\"\n",
    "def get_accuracy(target, logits):\n",
    "    \"\"\"\n",
    "    Calculate accuracy\n",
    "    \"\"\"\n",
    "    max_seq = max(target.shape[1], logits.shape[1])\n",
    "    if max_seq - target.shape[1]:\n",
    "        target = np.pad(\n",
    "            target,\n",
    "            [(0,0),(0,max_seq - target.shape[1])],\n",
    "            'constant')\n",
    "    if max_seq - logits.shape[1]:\n",
    "        logits = np.pad(\n",
    "            logits,\n",
    "            [(0,0),(0,max_seq - logits.shape[1])],\n",
    "            'constant')\n",
    "\n",
    "    return np.mean(np.equal(target, logits))\n",
    "\n",
    "# Split data to training and validation sets\n",
    "train_source = source_int_text[batch_size:]\n",
    "train_target = target_int_text[batch_size:]\n",
    "valid_source = source_int_text[:batch_size]\n",
    "valid_target = target_int_text[:batch_size]\n",
    "(valid_sources_batch, valid_targets_batch, valid_sources_lengths, valid_targets_lengths ) = next(get_batches(valid_source,\n",
    "                                                                                                             valid_target,\n",
    "                                                                                                             batch_size,\n",
    "                                                                                                             source_vocab_to_int['<PAD>'],\n",
    "                                                                                                             target_vocab_to_int['<PAD>']))                                                                                                  \n",
    "with tf.Session(graph=train_graph) as sess:\n",
    "    sess.run(tf.global_variables_initializer())\n",
    "\n",
    "    for epoch_i in range(epochs):\n",
    "        for batch_i, (source_batch, target_batch, sources_lengths, targets_lengths) in enumerate(\n",
    "                get_batches(train_source, train_target, batch_size,\n",
    "                            source_vocab_to_int['<PAD>'],\n",
    "                            target_vocab_to_int['<PAD>'])):\n",
    "\n",
    "            _, loss = sess.run(\n",
    "                [train_op, cost],\n",
    "                {input_data: source_batch,\n",
    "                 targets: target_batch,\n",
    "                 lr: learning_rate,\n",
    "                 target_sequence_length: targets_lengths,\n",
    "                 source_sequence_length: sources_lengths,\n",
    "                 keep_prob: keep_probability})\n",
    "\n",
    "\n",
    "            if batch_i % display_step == 0 and batch_i > 0:\n",
    "\n",
    "\n",
    "                batch_train_logits = sess.run(\n",
    "                    inference_logits,\n",
    "                    {input_data: source_batch,\n",
    "                     source_sequence_length: sources_lengths,\n",
    "                     target_sequence_length: targets_lengths,\n",
    "                     keep_prob: 1.0})\n",
    "\n",
    "\n",
    "                batch_valid_logits = sess.run(\n",
    "                    inference_logits,\n",
    "                    {input_data: valid_sources_batch,\n",
    "                     source_sequence_length: valid_sources_lengths,\n",
    "                     target_sequence_length: valid_targets_lengths,\n",
    "                     keep_prob: 1.0})\n",
    "\n",
    "                train_acc = get_accuracy(target_batch, batch_train_logits)\n",
    "\n",
    "                valid_acc = get_accuracy(valid_targets_batch, batch_valid_logits)\n",
    "\n",
    "                print('Epoch {:>3} Batch {:>4}/{} - Train Accuracy: {:>6.4f}, Validation Accuracy: {:>6.4f}, Loss: {:>6.4f}'\n",
    "                      .format(epoch_i, batch_i, len(source_int_text) // batch_size, train_acc, valid_acc, loss))\n",
    "\n",
    "    # Save Model\n",
    "    saver = tf.train.Saver()\n",
    "    saver.save(sess, save_path)\n",
    "    print('Model Trained and Saved')"
   ]
  },
  {
   "cell_type": "markdown",
   "metadata": {},
   "source": [
    "### Save Parameters\n",
    "Save the `batch_size` and `save_path` parameters for inference."
   ]
  },
  {
   "cell_type": "code",
   "execution_count": 18,
   "metadata": {
    "ExecuteTime": {
     "end_time": "2018-01-23T02:22:31.506304Z",
     "start_time": "2018-01-23T02:22:31.502884Z"
    }
   },
   "outputs": [],
   "source": [
    "\"\"\"\n",
    "DON'T MODIFY ANYTHING IN THIS CELL\n",
    "\"\"\"\n",
    "# Save parameters for checkpoint\n",
    "helper.save_params(save_path)"
   ]
  },
  {
   "cell_type": "markdown",
   "metadata": {},
   "source": [
    "# Checkpoint"
   ]
  },
  {
   "cell_type": "code",
   "execution_count": 19,
   "metadata": {
    "ExecuteTime": {
     "end_time": "2018-01-23T02:22:37.914815Z",
     "start_time": "2018-01-23T02:22:37.556068Z"
    }
   },
   "outputs": [],
   "source": [
    "\"\"\"\n",
    "DON'T MODIFY ANYTHING IN THIS CELL\n",
    "\"\"\"\n",
    "import tensorflow as tf\n",
    "import numpy as np\n",
    "import helper\n",
    "import problem_unittests as tests\n",
    "\n",
    "_, (source_vocab_to_int, target_vocab_to_int), (source_int_to_vocab, target_int_to_vocab) = helper.load_preprocess()\n",
    "load_path = helper.load_params()"
   ]
  },
  {
   "cell_type": "markdown",
   "metadata": {},
   "source": [
    "## Sentence to Sequence\n",
    "To feed a sentence into the model for translation, you first need to preprocess it.  Implement the function `sentence_to_seq()` to preprocess new sentences.\n",
    "\n",
    "- Convert the sentence to lowercase\n",
    "- Convert words into ids using `vocab_to_int`\n",
    " - Convert words not in the vocabulary, to the `<UNK>` word id."
   ]
  },
  {
   "cell_type": "code",
   "execution_count": 20,
   "metadata": {
    "ExecuteTime": {
     "end_time": "2018-01-23T02:23:07.487133Z",
     "start_time": "2018-01-23T02:23:07.479751Z"
    }
   },
   "outputs": [
    {
     "name": "stdout",
     "output_type": "stream",
     "text": [
      "Tests Passed\n"
     ]
    }
   ],
   "source": [
    "def sentence_to_seq(sentence, vocab_to_int):\n",
    "    \"\"\"\n",
    "    Convert a sentence to a sequence of ids\n",
    "    :param sentence: String\n",
    "    :param vocab_to_int: Dictionary to go from the words to an id\n",
    "    :return: List of word ids\n",
    "    \"\"\"\n",
    "    # unknown array\n",
    "    unknown_id = vocab_to_int['<UNK>']\n",
    "    word_id_list = [\n",
    "        vocab_to_int.get(word, unknown_id) for word in sentence.lower().split()\n",
    "    ]\n",
    "        \n",
    "    return word_id_list\n",
    "\n",
    "\"\"\"\n",
    "DON'T MODIFY ANYTHING IN THIS CELL THAT IS BELOW THIS LINE\n",
    "\"\"\"\n",
    "tests.test_sentence_to_seq(sentence_to_seq)"
   ]
  },
  {
   "cell_type": "markdown",
   "metadata": {},
   "source": [
    "## Translate\n",
    "This will translate `translate_sentence` from English to French."
   ]
  },
  {
   "cell_type": "code",
   "execution_count": 21,
   "metadata": {
    "ExecuteTime": {
     "end_time": "2018-01-23T02:24:17.385114Z",
     "start_time": "2018-01-23T02:24:16.432888Z"
    }
   },
   "outputs": [
    {
     "name": "stdout",
     "output_type": "stream",
     "text": [
      "INFO:tensorflow:Restoring parameters from checkpoints/dev\n",
      "Input\n",
      "  Word Ids:      [212, 118, 215, 211, 163, 133]\n",
      "  English Words: ['he', 'saw', 'a', 'old', 'red', 'car']\n",
      "\n",
      "Prediction\n",
      "  Word Ids:      [226, 305, 252, 343, 259, 130, 346, 1]\n",
      "  French Words: il vu une vieille voiture noire . <EOS>\n"
     ]
    }
   ],
   "source": [
    "translate_sentence = 'he saw a old red car'\n",
    "\n",
    "\"\"\"\n",
    "DON'T MODIFY ANYTHING IN THIS CELL\n",
    "\"\"\"\n",
    "translate_sentence = sentence_to_seq(translate_sentence, source_vocab_to_int)\n",
    "\n",
    "loaded_graph = tf.Graph()\n",
    "with tf.Session(graph=loaded_graph) as sess:\n",
    "    # Load saved model\n",
    "    loader = tf.train.import_meta_graph(load_path + '.meta')\n",
    "    loader.restore(sess, load_path)\n",
    "\n",
    "    input_data = loaded_graph.get_tensor_by_name('input:0')\n",
    "    logits = loaded_graph.get_tensor_by_name('predictions:0')\n",
    "    target_sequence_length = loaded_graph.get_tensor_by_name('target_sequence_length:0')\n",
    "    source_sequence_length = loaded_graph.get_tensor_by_name('source_sequence_length:0')\n",
    "    keep_prob = loaded_graph.get_tensor_by_name('keep_prob:0')\n",
    "\n",
    "    translate_logits = sess.run(logits, {input_data: [translate_sentence]*batch_size,\n",
    "                                         target_sequence_length: [len(translate_sentence)*2]*batch_size,\n",
    "                                         source_sequence_length: [len(translate_sentence)]*batch_size,\n",
    "                                         keep_prob: 1.0})[0]\n",
    "\n",
    "print('Input')\n",
    "print('  Word Ids:      {}'.format([i for i in translate_sentence]))\n",
    "print('  English Words: {}'.format([source_int_to_vocab[i] for i in translate_sentence]))\n",
    "\n",
    "print('\\nPrediction')\n",
    "print('  Word Ids:      {}'.format([i for i in translate_logits]))\n",
    "print('  French Words: {}'.format(\" \".join([target_int_to_vocab[i] for i in translate_logits])))\n"
   ]
  },
  {
   "cell_type": "markdown",
   "metadata": {},
   "source": [
    "## Imperfect Translation\n",
    "You might notice that some sentences translate better than others.  Since the dataset you're using only has a vocabulary of 227 English words of the thousands that you use, you're only going to see good results using these words.  For this project, you don't need a perfect translation. However, if you want to create a better translation model, you'll need better data.\n",
    "\n",
    "You can train on the [WMT10 French-English corpus](http://www.statmt.org/wmt10/training-giga-fren.tar).  This dataset has more vocabulary and richer in topics discussed.  However, this will take you days to train, so make sure you've a GPU and the neural network is performing well on dataset we provided.  Just make sure you play with the WMT10 corpus after you've submitted this project.\n",
    "## Submitting This Project\n",
    "When submitting this project, make sure to run all the cells before saving the notebook. Save the notebook file as \"dlnd_language_translation.ipynb\" and save it as a HTML file under \"File\" -> \"Download as\". Include the \"helper.py\" and \"problem_unittests.py\" files in your submission."
   ]
  }
 ],
 "metadata": {
  "anaconda-cloud": {},
  "kernelspec": {
   "display_name": "Python 3",
   "language": "python",
   "name": "python3"
  },
  "language_info": {
   "codemirror_mode": {
    "name": "ipython",
    "version": 3
   },
   "file_extension": ".py",
   "mimetype": "text/x-python",
   "name": "python",
   "nbconvert_exporter": "python",
   "pygments_lexer": "ipython3",
   "version": "3.6.2"
  },
  "varInspector": {
   "cols": {
    "lenName": 16,
    "lenType": 16,
    "lenVar": 40
   },
   "kernels_config": {
    "python": {
     "delete_cmd_postfix": "",
     "delete_cmd_prefix": "del ",
     "library": "var_list.py",
     "varRefreshCmd": "print(var_dic_list())"
    },
    "r": {
     "delete_cmd_postfix": ") ",
     "delete_cmd_prefix": "rm(",
     "library": "var_list.r",
     "varRefreshCmd": "cat(var_dic_list()) "
    }
   },
   "types_to_exclude": [
    "module",
    "function",
    "builtin_function_or_method",
    "instance",
    "_Feature"
   ],
   "window_display": false
  }
 },
 "nbformat": 4,
 "nbformat_minor": 1
}
